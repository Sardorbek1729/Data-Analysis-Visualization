{
 "cells": [
  {
   "cell_type": "code",
   "execution_count": 1,
   "id": "c45666f9",
   "metadata": {},
   "outputs": [],
   "source": [
    "import pandas as pd"
   ]
  },
  {
   "cell_type": "code",
   "execution_count": 2,
   "id": "bc9fddf2",
   "metadata": {},
   "outputs": [],
   "source": [
    "titanic = pd.read_csv(\"data/titanic.csv\")\n",
    "titanic[\"age\"] = titanic[\"age\"].replace(['?'], None).astype('float')\n",
    "titanic[\"fare\"] = titanic[\"fare\"].replace(['?'], None).astype('float')"
   ]
  },
  {
   "cell_type": "code",
   "execution_count": 3,
   "id": "f93dac9c",
   "metadata": {},
   "outputs": [
    {
     "data": {
      "text/plain": [
       "0       10585.0000\n",
       "1         334.5955\n",
       "2         730.0000\n",
       "3       10950.0000\n",
       "4        9125.0000\n",
       "           ...    \n",
       "1304     5292.5000\n",
       "1305     5292.5000\n",
       "1306     9672.5000\n",
       "1307     9855.0000\n",
       "1308    10585.0000\n",
       "Name: age, Length: 1309, dtype: float64"
      ]
     },
     "execution_count": 3,
     "metadata": {},
     "output_type": "execute_result"
    }
   ],
   "source": [
    "def years_to_days(yrs):\n",
    "    return yrs*365\n",
    "\n",
    "titanic[\"age\"].apply(years_to_days)"
   ]
  },
  {
   "cell_type": "code",
   "execution_count": 11,
   "id": "e6ef16dd",
   "metadata": {},
   "outputs": [],
   "source": [
    "def get_age_group(age):\n",
    "    if age < 2:\n",
    "        return \"infant\"\n",
    "    elif age < 12:\n",
    "        return \"child\"\n",
    "    elif age < 18:\n",
    "        return \"teen\"\n",
    "    elif age < 45:\n",
    "        return \"adult\"\n",
    "    else:\n",
    "        return \"senior\""
   ]
  },
  {
   "cell_type": "code",
   "execution_count": 12,
   "id": "9cad069d",
   "metadata": {},
   "outputs": [
    {
     "data": {
      "text/plain": [
       "0        adult\n",
       "1       infant\n",
       "2        child\n",
       "3        adult\n",
       "4        adult\n",
       "         ...  \n",
       "1304      teen\n",
       "1305      teen\n",
       "1306     adult\n",
       "1307     adult\n",
       "1308     adult\n",
       "Name: age, Length: 1309, dtype: object"
      ]
     },
     "execution_count": 12,
     "metadata": {},
     "output_type": "execute_result"
    }
   ],
   "source": [
    "titanic[\"age\"].apply(get_age_group)"
   ]
  },
  {
   "cell_type": "code",
   "execution_count": 13,
   "id": "c92fe4bb",
   "metadata": {},
   "outputs": [],
   "source": [
    "titanic[\"age_group\"] = titanic[\"age\"].apply(get_age_group)"
   ]
  },
  {
   "cell_type": "code",
   "execution_count": 14,
   "id": "393f642b",
   "metadata": {},
   "outputs": [
    {
     "data": {
      "text/html": [
       "<div>\n",
       "<style scoped>\n",
       "    .dataframe tbody tr th:only-of-type {\n",
       "        vertical-align: middle;\n",
       "    }\n",
       "\n",
       "    .dataframe tbody tr th {\n",
       "        vertical-align: top;\n",
       "    }\n",
       "\n",
       "    .dataframe thead th {\n",
       "        text-align: right;\n",
       "    }\n",
       "</style>\n",
       "<table border=\"1\" class=\"dataframe\">\n",
       "  <thead>\n",
       "    <tr style=\"text-align: right;\">\n",
       "      <th></th>\n",
       "      <th>pclass</th>\n",
       "      <th>survived</th>\n",
       "      <th>name</th>\n",
       "      <th>sex</th>\n",
       "      <th>age</th>\n",
       "      <th>sibsp</th>\n",
       "      <th>parch</th>\n",
       "      <th>ticket</th>\n",
       "      <th>fare</th>\n",
       "      <th>cabin</th>\n",
       "      <th>embarked</th>\n",
       "      <th>boat</th>\n",
       "      <th>body</th>\n",
       "      <th>home.dest</th>\n",
       "      <th>age_group</th>\n",
       "    </tr>\n",
       "  </thead>\n",
       "  <tbody>\n",
       "    <tr>\n",
       "      <th>0</th>\n",
       "      <td>1</td>\n",
       "      <td>1</td>\n",
       "      <td>Allen, Miss. Elisabeth Walton</td>\n",
       "      <td>female</td>\n",
       "      <td>29.0000</td>\n",
       "      <td>0</td>\n",
       "      <td>0</td>\n",
       "      <td>24160</td>\n",
       "      <td>211.3375</td>\n",
       "      <td>B5</td>\n",
       "      <td>S</td>\n",
       "      <td>2</td>\n",
       "      <td>?</td>\n",
       "      <td>St Louis, MO</td>\n",
       "      <td>adult</td>\n",
       "    </tr>\n",
       "    <tr>\n",
       "      <th>1</th>\n",
       "      <td>1</td>\n",
       "      <td>1</td>\n",
       "      <td>Allison, Master. Hudson Trevor</td>\n",
       "      <td>male</td>\n",
       "      <td>0.9167</td>\n",
       "      <td>1</td>\n",
       "      <td>2</td>\n",
       "      <td>113781</td>\n",
       "      <td>151.5500</td>\n",
       "      <td>C22 C26</td>\n",
       "      <td>S</td>\n",
       "      <td>11</td>\n",
       "      <td>?</td>\n",
       "      <td>Montreal, PQ / Chesterville, ON</td>\n",
       "      <td>infant</td>\n",
       "    </tr>\n",
       "    <tr>\n",
       "      <th>2</th>\n",
       "      <td>1</td>\n",
       "      <td>0</td>\n",
       "      <td>Allison, Miss. Helen Loraine</td>\n",
       "      <td>female</td>\n",
       "      <td>2.0000</td>\n",
       "      <td>1</td>\n",
       "      <td>2</td>\n",
       "      <td>113781</td>\n",
       "      <td>151.5500</td>\n",
       "      <td>C22 C26</td>\n",
       "      <td>S</td>\n",
       "      <td>?</td>\n",
       "      <td>?</td>\n",
       "      <td>Montreal, PQ / Chesterville, ON</td>\n",
       "      <td>child</td>\n",
       "    </tr>\n",
       "    <tr>\n",
       "      <th>3</th>\n",
       "      <td>1</td>\n",
       "      <td>0</td>\n",
       "      <td>Allison, Mr. Hudson Joshua Creighton</td>\n",
       "      <td>male</td>\n",
       "      <td>30.0000</td>\n",
       "      <td>1</td>\n",
       "      <td>2</td>\n",
       "      <td>113781</td>\n",
       "      <td>151.5500</td>\n",
       "      <td>C22 C26</td>\n",
       "      <td>S</td>\n",
       "      <td>?</td>\n",
       "      <td>135</td>\n",
       "      <td>Montreal, PQ / Chesterville, ON</td>\n",
       "      <td>adult</td>\n",
       "    </tr>\n",
       "    <tr>\n",
       "      <th>4</th>\n",
       "      <td>1</td>\n",
       "      <td>0</td>\n",
       "      <td>Allison, Mrs. Hudson J C (Bessie Waldo Daniels)</td>\n",
       "      <td>female</td>\n",
       "      <td>25.0000</td>\n",
       "      <td>1</td>\n",
       "      <td>2</td>\n",
       "      <td>113781</td>\n",
       "      <td>151.5500</td>\n",
       "      <td>C22 C26</td>\n",
       "      <td>S</td>\n",
       "      <td>?</td>\n",
       "      <td>?</td>\n",
       "      <td>Montreal, PQ / Chesterville, ON</td>\n",
       "      <td>adult</td>\n",
       "    </tr>\n",
       "    <tr>\n",
       "      <th>...</th>\n",
       "      <td>...</td>\n",
       "      <td>...</td>\n",
       "      <td>...</td>\n",
       "      <td>...</td>\n",
       "      <td>...</td>\n",
       "      <td>...</td>\n",
       "      <td>...</td>\n",
       "      <td>...</td>\n",
       "      <td>...</td>\n",
       "      <td>...</td>\n",
       "      <td>...</td>\n",
       "      <td>...</td>\n",
       "      <td>...</td>\n",
       "      <td>...</td>\n",
       "      <td>...</td>\n",
       "    </tr>\n",
       "    <tr>\n",
       "      <th>1304</th>\n",
       "      <td>3</td>\n",
       "      <td>0</td>\n",
       "      <td>Zabour, Miss. Hileni</td>\n",
       "      <td>female</td>\n",
       "      <td>14.5000</td>\n",
       "      <td>1</td>\n",
       "      <td>0</td>\n",
       "      <td>2665</td>\n",
       "      <td>14.4542</td>\n",
       "      <td>?</td>\n",
       "      <td>C</td>\n",
       "      <td>?</td>\n",
       "      <td>328</td>\n",
       "      <td>?</td>\n",
       "      <td>teen</td>\n",
       "    </tr>\n",
       "    <tr>\n",
       "      <th>1305</th>\n",
       "      <td>3</td>\n",
       "      <td>0</td>\n",
       "      <td>Zabour, Miss. Thamine</td>\n",
       "      <td>female</td>\n",
       "      <td>14.5000</td>\n",
       "      <td>1</td>\n",
       "      <td>0</td>\n",
       "      <td>2665</td>\n",
       "      <td>14.4542</td>\n",
       "      <td>?</td>\n",
       "      <td>C</td>\n",
       "      <td>?</td>\n",
       "      <td>?</td>\n",
       "      <td>?</td>\n",
       "      <td>teen</td>\n",
       "    </tr>\n",
       "    <tr>\n",
       "      <th>1306</th>\n",
       "      <td>3</td>\n",
       "      <td>0</td>\n",
       "      <td>Zakarian, Mr. Mapriededer</td>\n",
       "      <td>male</td>\n",
       "      <td>26.5000</td>\n",
       "      <td>0</td>\n",
       "      <td>0</td>\n",
       "      <td>2656</td>\n",
       "      <td>7.2250</td>\n",
       "      <td>?</td>\n",
       "      <td>C</td>\n",
       "      <td>?</td>\n",
       "      <td>304</td>\n",
       "      <td>?</td>\n",
       "      <td>adult</td>\n",
       "    </tr>\n",
       "    <tr>\n",
       "      <th>1307</th>\n",
       "      <td>3</td>\n",
       "      <td>0</td>\n",
       "      <td>Zakarian, Mr. Ortin</td>\n",
       "      <td>male</td>\n",
       "      <td>27.0000</td>\n",
       "      <td>0</td>\n",
       "      <td>0</td>\n",
       "      <td>2670</td>\n",
       "      <td>7.2250</td>\n",
       "      <td>?</td>\n",
       "      <td>C</td>\n",
       "      <td>?</td>\n",
       "      <td>?</td>\n",
       "      <td>?</td>\n",
       "      <td>adult</td>\n",
       "    </tr>\n",
       "    <tr>\n",
       "      <th>1308</th>\n",
       "      <td>3</td>\n",
       "      <td>0</td>\n",
       "      <td>Zimmerman, Mr. Leo</td>\n",
       "      <td>male</td>\n",
       "      <td>29.0000</td>\n",
       "      <td>0</td>\n",
       "      <td>0</td>\n",
       "      <td>315082</td>\n",
       "      <td>7.8750</td>\n",
       "      <td>?</td>\n",
       "      <td>S</td>\n",
       "      <td>?</td>\n",
       "      <td>?</td>\n",
       "      <td>?</td>\n",
       "      <td>adult</td>\n",
       "    </tr>\n",
       "  </tbody>\n",
       "</table>\n",
       "<p>1309 rows × 15 columns</p>\n",
       "</div>"
      ],
      "text/plain": [
       "      pclass  survived                                             name  \\\n",
       "0          1         1                    Allen, Miss. Elisabeth Walton   \n",
       "1          1         1                   Allison, Master. Hudson Trevor   \n",
       "2          1         0                     Allison, Miss. Helen Loraine   \n",
       "3          1         0             Allison, Mr. Hudson Joshua Creighton   \n",
       "4          1         0  Allison, Mrs. Hudson J C (Bessie Waldo Daniels)   \n",
       "...      ...       ...                                              ...   \n",
       "1304       3         0                             Zabour, Miss. Hileni   \n",
       "1305       3         0                            Zabour, Miss. Thamine   \n",
       "1306       3         0                        Zakarian, Mr. Mapriededer   \n",
       "1307       3         0                              Zakarian, Mr. Ortin   \n",
       "1308       3         0                               Zimmerman, Mr. Leo   \n",
       "\n",
       "         sex      age  sibsp  parch  ticket      fare    cabin embarked boat  \\\n",
       "0     female  29.0000      0      0   24160  211.3375       B5        S    2   \n",
       "1       male   0.9167      1      2  113781  151.5500  C22 C26        S   11   \n",
       "2     female   2.0000      1      2  113781  151.5500  C22 C26        S    ?   \n",
       "3       male  30.0000      1      2  113781  151.5500  C22 C26        S    ?   \n",
       "4     female  25.0000      1      2  113781  151.5500  C22 C26        S    ?   \n",
       "...      ...      ...    ...    ...     ...       ...      ...      ...  ...   \n",
       "1304  female  14.5000      1      0    2665   14.4542        ?        C    ?   \n",
       "1305  female  14.5000      1      0    2665   14.4542        ?        C    ?   \n",
       "1306    male  26.5000      0      0    2656    7.2250        ?        C    ?   \n",
       "1307    male  27.0000      0      0    2670    7.2250        ?        C    ?   \n",
       "1308    male  29.0000      0      0  315082    7.8750        ?        S    ?   \n",
       "\n",
       "     body                        home.dest age_group  \n",
       "0       ?                     St Louis, MO     adult  \n",
       "1       ?  Montreal, PQ / Chesterville, ON    infant  \n",
       "2       ?  Montreal, PQ / Chesterville, ON     child  \n",
       "3     135  Montreal, PQ / Chesterville, ON     adult  \n",
       "4       ?  Montreal, PQ / Chesterville, ON     adult  \n",
       "...   ...                              ...       ...  \n",
       "1304  328                                ?      teen  \n",
       "1305    ?                                ?      teen  \n",
       "1306  304                                ?     adult  \n",
       "1307    ?                                ?     adult  \n",
       "1308    ?                                ?     adult  \n",
       "\n",
       "[1309 rows x 15 columns]"
      ]
     },
     "execution_count": 14,
     "metadata": {},
     "output_type": "execute_result"
    }
   ],
   "source": [
    "titanic"
   ]
  },
  {
   "cell_type": "code",
   "execution_count": 15,
   "id": "3432a3b4",
   "metadata": {},
   "outputs": [
    {
     "data": {
      "text/plain": [
       "adult     902\n",
       "senior    219\n",
       "teen       88\n",
       "child      75\n",
       "infant     25\n",
       "Name: age_group, dtype: int64"
      ]
     },
     "execution_count": 15,
     "metadata": {},
     "output_type": "execute_result"
    }
   ],
   "source": [
    "titanic.age_group.value_counts()"
   ]
  },
  {
   "cell_type": "code",
   "execution_count": 20,
   "id": "f8b28f30",
   "metadata": {},
   "outputs": [
    {
     "data": {
      "text/plain": [
       "age_group  sex   \n",
       "adult      female    0.716612\n",
       "           male      0.178151\n",
       "child      female    0.500000\n",
       "           male      0.435897\n",
       "infant     female    0.888889\n",
       "           male      0.562500\n",
       "senior     female    0.863014\n",
       "           male      0.143836\n",
       "teen       female    0.731707\n",
       "           male      0.170213\n",
       "Name: survived, dtype: float64"
      ]
     },
     "execution_count": 20,
     "metadata": {},
     "output_type": "execute_result"
    }
   ],
   "source": [
    "titanic.groupby([ \"age_group\",\"sex\"]).survived.mean()"
   ]
  },
  {
   "cell_type": "code",
   "execution_count": 22,
   "id": "fa0d6528",
   "metadata": {},
   "outputs": [
    {
     "data": {
      "text/plain": [
       "0                   $5072.1\n",
       "1       $3637.2000000000003\n",
       "2       $3637.2000000000003\n",
       "3       $3637.2000000000003\n",
       "4       $3637.2000000000003\n",
       "               ...         \n",
       "1304              $346.9008\n",
       "1305              $346.9008\n",
       "1306    $173.39999999999998\n",
       "1307    $173.39999999999998\n",
       "1308                 $189.0\n",
       "Name: fare, Length: 1309, dtype: object"
      ]
     },
     "execution_count": 22,
     "metadata": {},
     "output_type": "execute_result"
    }
   ],
   "source": [
    "titanic[\"fare\"].apply(lambda x: f\"${x*24}\")"
   ]
  },
  {
   "cell_type": "code",
   "execution_count": 23,
   "id": "79ba26ac",
   "metadata": {},
   "outputs": [],
   "source": [
    "def convert_currency(num, multiplier):\n",
    "    return f\"${num*multiplier}\""
   ]
  },
  {
   "cell_type": "code",
   "execution_count": 24,
   "id": "ec6ef445",
   "metadata": {},
   "outputs": [
    {
     "data": {
      "text/plain": [
       "'$46'"
      ]
     },
     "execution_count": 24,
     "metadata": {},
     "output_type": "execute_result"
    }
   ],
   "source": [
    "convert_currency(2,23)"
   ]
  },
  {
   "cell_type": "code",
   "execution_count": 25,
   "id": "34ffbbf0",
   "metadata": {},
   "outputs": [
    {
     "data": {
      "text/plain": [
       "0                   $5072.1\n",
       "1       $3637.2000000000003\n",
       "2       $3637.2000000000003\n",
       "3       $3637.2000000000003\n",
       "4       $3637.2000000000003\n",
       "               ...         \n",
       "1304              $346.9008\n",
       "1305              $346.9008\n",
       "1306    $173.39999999999998\n",
       "1307    $173.39999999999998\n",
       "1308                 $189.0\n",
       "Name: fare, Length: 1309, dtype: object"
      ]
     },
     "execution_count": 25,
     "metadata": {},
     "output_type": "execute_result"
    }
   ],
   "source": [
    "titanic[\"fare\"].apply(convert_currency, args=(24,))"
   ]
  },
  {
   "cell_type": "code",
   "execution_count": 30,
   "id": "2f3834dc",
   "metadata": {},
   "outputs": [],
   "source": [
    "df = titanic[[\"pclass\", \"survived\", \"age\", \"fare\"]]"
   ]
  },
  {
   "cell_type": "code",
   "execution_count": 31,
   "id": "fe869484",
   "metadata": {},
   "outputs": [
    {
     "data": {
      "text/html": [
       "<div>\n",
       "<style scoped>\n",
       "    .dataframe tbody tr th:only-of-type {\n",
       "        vertical-align: middle;\n",
       "    }\n",
       "\n",
       "    .dataframe tbody tr th {\n",
       "        vertical-align: top;\n",
       "    }\n",
       "\n",
       "    .dataframe thead th {\n",
       "        text-align: right;\n",
       "    }\n",
       "</style>\n",
       "<table border=\"1\" class=\"dataframe\">\n",
       "  <thead>\n",
       "    <tr style=\"text-align: right;\">\n",
       "      <th></th>\n",
       "      <th>pclass</th>\n",
       "      <th>survived</th>\n",
       "      <th>age</th>\n",
       "      <th>fare</th>\n",
       "    </tr>\n",
       "  </thead>\n",
       "  <tbody>\n",
       "    <tr>\n",
       "      <th>0</th>\n",
       "      <td>1</td>\n",
       "      <td>1</td>\n",
       "      <td>29.0000</td>\n",
       "      <td>211.3375</td>\n",
       "    </tr>\n",
       "    <tr>\n",
       "      <th>1</th>\n",
       "      <td>1</td>\n",
       "      <td>1</td>\n",
       "      <td>0.9167</td>\n",
       "      <td>151.5500</td>\n",
       "    </tr>\n",
       "    <tr>\n",
       "      <th>2</th>\n",
       "      <td>1</td>\n",
       "      <td>0</td>\n",
       "      <td>2.0000</td>\n",
       "      <td>151.5500</td>\n",
       "    </tr>\n",
       "    <tr>\n",
       "      <th>3</th>\n",
       "      <td>1</td>\n",
       "      <td>0</td>\n",
       "      <td>30.0000</td>\n",
       "      <td>151.5500</td>\n",
       "    </tr>\n",
       "    <tr>\n",
       "      <th>4</th>\n",
       "      <td>1</td>\n",
       "      <td>0</td>\n",
       "      <td>25.0000</td>\n",
       "      <td>151.5500</td>\n",
       "    </tr>\n",
       "    <tr>\n",
       "      <th>...</th>\n",
       "      <td>...</td>\n",
       "      <td>...</td>\n",
       "      <td>...</td>\n",
       "      <td>...</td>\n",
       "    </tr>\n",
       "    <tr>\n",
       "      <th>1304</th>\n",
       "      <td>3</td>\n",
       "      <td>0</td>\n",
       "      <td>14.5000</td>\n",
       "      <td>14.4542</td>\n",
       "    </tr>\n",
       "    <tr>\n",
       "      <th>1305</th>\n",
       "      <td>3</td>\n",
       "      <td>0</td>\n",
       "      <td>14.5000</td>\n",
       "      <td>14.4542</td>\n",
       "    </tr>\n",
       "    <tr>\n",
       "      <th>1306</th>\n",
       "      <td>3</td>\n",
       "      <td>0</td>\n",
       "      <td>26.5000</td>\n",
       "      <td>7.2250</td>\n",
       "    </tr>\n",
       "    <tr>\n",
       "      <th>1307</th>\n",
       "      <td>3</td>\n",
       "      <td>0</td>\n",
       "      <td>27.0000</td>\n",
       "      <td>7.2250</td>\n",
       "    </tr>\n",
       "    <tr>\n",
       "      <th>1308</th>\n",
       "      <td>3</td>\n",
       "      <td>0</td>\n",
       "      <td>29.0000</td>\n",
       "      <td>7.8750</td>\n",
       "    </tr>\n",
       "  </tbody>\n",
       "</table>\n",
       "<p>1309 rows × 4 columns</p>\n",
       "</div>"
      ],
      "text/plain": [
       "      pclass  survived      age      fare\n",
       "0          1         1  29.0000  211.3375\n",
       "1          1         1   0.9167  151.5500\n",
       "2          1         0   2.0000  151.5500\n",
       "3          1         0  30.0000  151.5500\n",
       "4          1         0  25.0000  151.5500\n",
       "...      ...       ...      ...       ...\n",
       "1304       3         0  14.5000   14.4542\n",
       "1305       3         0  14.5000   14.4542\n",
       "1306       3         0  26.5000    7.2250\n",
       "1307       3         0  27.0000    7.2250\n",
       "1308       3         0  29.0000    7.8750\n",
       "\n",
       "[1309 rows x 4 columns]"
      ]
     },
     "execution_count": 31,
     "metadata": {},
     "output_type": "execute_result"
    }
   ],
   "source": [
    "df"
   ]
  },
  {
   "cell_type": "code",
   "execution_count": 32,
   "id": "5fa92100",
   "metadata": {},
   "outputs": [],
   "source": [
    "def get_range(s):\n",
    "    return s.max() - s.min()"
   ]
  },
  {
   "cell_type": "code",
   "execution_count": 33,
   "id": "d7cb18ab",
   "metadata": {},
   "outputs": [
    {
     "data": {
      "text/plain": [
       "pclass        2.0000\n",
       "survived      1.0000\n",
       "age          79.8333\n",
       "fare        512.3292\n",
       "dtype: float64"
      ]
     },
     "execution_count": 33,
     "metadata": {},
     "output_type": "execute_result"
    }
   ],
   "source": [
    "df.apply(get_range)"
   ]
  },
  {
   "cell_type": "code",
   "execution_count": 34,
   "id": "f735fe02",
   "metadata": {},
   "outputs": [
    {
     "data": {
      "text/plain": [
       "0       210.3375\n",
       "1       150.6333\n",
       "2       151.5500\n",
       "3       151.5500\n",
       "4       151.5500\n",
       "          ...   \n",
       "1304     14.5000\n",
       "1305     14.5000\n",
       "1306     26.5000\n",
       "1307     27.0000\n",
       "1308     29.0000\n",
       "Length: 1309, dtype: float64"
      ]
     },
     "execution_count": 34,
     "metadata": {},
     "output_type": "execute_result"
    }
   ],
   "source": [
    "df.apply(get_range, axis=1)"
   ]
  },
  {
   "cell_type": "code",
   "execution_count": 35,
   "id": "7c270dd7",
   "metadata": {},
   "outputs": [],
   "source": [
    "def get_fam_size(s):\n",
    "    fam_size = s.sibsp + s.parch\n",
    "    if fam_size == 0:\n",
    "        return \"solo\"\n",
    "    elif fam_size < 5:\n",
    "        return \"average\"\n",
    "    else:\n",
    "        return \"large\""
   ]
  },
  {
   "cell_type": "code",
   "execution_count": 37,
   "id": "a7b6c9fb",
   "metadata": {},
   "outputs": [
    {
     "data": {
      "text/plain": [
       "0          solo\n",
       "1       average\n",
       "2       average\n",
       "3       average\n",
       "4       average\n",
       "         ...   \n",
       "1304    average\n",
       "1305    average\n",
       "1306       solo\n",
       "1307       solo\n",
       "1308       solo\n",
       "Length: 1309, dtype: object"
      ]
     },
     "execution_count": 37,
     "metadata": {},
     "output_type": "execute_result"
    }
   ],
   "source": [
    "titanic.apply(get_fam_size, axis=1)"
   ]
  },
  {
   "cell_type": "code",
   "execution_count": 38,
   "id": "0cf8e3c9",
   "metadata": {},
   "outputs": [],
   "source": [
    "titanic[\"fam_size\"] = titanic.apply(get_fam_size, axis=1)"
   ]
  },
  {
   "cell_type": "code",
   "execution_count": 40,
   "id": "50b17919",
   "metadata": {},
   "outputs": [
    {
     "data": {
      "text/plain": [
       "solo       790\n",
       "average    459\n",
       "large       60\n",
       "Name: fam_size, dtype: int64"
      ]
     },
     "execution_count": 40,
     "metadata": {},
     "output_type": "execute_result"
    }
   ],
   "source": [
    "titanic[\"fam_size\"].value_counts()"
   ]
  },
  {
   "cell_type": "code",
   "execution_count": 42,
   "id": "bfbde79f",
   "metadata": {},
   "outputs": [
    {
     "data": {
      "text/plain": [
       "fam_size\n",
       "average    0.549020\n",
       "large      0.150000\n",
       "solo       0.302532\n",
       "Name: survived, dtype: float64"
      ]
     },
     "execution_count": 42,
     "metadata": {},
     "output_type": "execute_result"
    }
   ],
   "source": [
    "titanic.groupby(\"fam_size\").survived.mean()"
   ]
  },
  {
   "cell_type": "code",
   "execution_count": 43,
   "id": "1eaed6d9",
   "metadata": {},
   "outputs": [
    {
     "data": {
      "text/plain": [
       "fam_size  sex   \n",
       "average   female    0.771429\n",
       "          male      0.294393\n",
       "large     female    0.296296\n",
       "          male      0.030303\n",
       "solo      female    0.731959\n",
       "          male      0.162752\n",
       "Name: survived, dtype: float64"
      ]
     },
     "execution_count": 43,
     "metadata": {},
     "output_type": "execute_result"
    }
   ],
   "source": [
    "titanic.groupby([\"fam_size\", \"sex\"]).survived.mean()"
   ]
  },
  {
   "cell_type": "code",
   "execution_count": 44,
   "id": "cf067438",
   "metadata": {},
   "outputs": [
    {
     "data": {
      "text/plain": [
       "0       1st\n",
       "1       1st\n",
       "2       1st\n",
       "3       1st\n",
       "4       1st\n",
       "       ... \n",
       "1304    3rd\n",
       "1305    3rd\n",
       "1306    3rd\n",
       "1307    3rd\n",
       "1308    3rd\n",
       "Name: pclass, Length: 1309, dtype: object"
      ]
     },
     "execution_count": 44,
     "metadata": {},
     "output_type": "execute_result"
    }
   ],
   "source": [
    "titanic[\"pclass\"].map({1: \"1st\", 2: \"2nd\", 3: \"3rd\"})"
   ]
  },
  {
   "cell_type": "code",
   "execution_count": 45,
   "id": "063be2b1",
   "metadata": {},
   "outputs": [
    {
     "data": {
      "text/plain": [
       "0       False\n",
       "1        True\n",
       "2        True\n",
       "3       False\n",
       "4       False\n",
       "        ...  \n",
       "1304     True\n",
       "1305     True\n",
       "1306    False\n",
       "1307    False\n",
       "1308    False\n",
       "Name: age, Length: 1309, dtype: bool"
      ]
     },
     "execution_count": 45,
     "metadata": {},
     "output_type": "execute_result"
    }
   ],
   "source": [
    "titanic[\"age\"].map(lambda a: a < 18)"
   ]
  },
  {
   "cell_type": "code",
   "execution_count": 46,
   "id": "866bb39d",
   "metadata": {},
   "outputs": [
    {
     "data": {
      "text/html": [
       "<div>\n",
       "<style scoped>\n",
       "    .dataframe tbody tr th:only-of-type {\n",
       "        vertical-align: middle;\n",
       "    }\n",
       "\n",
       "    .dataframe tbody tr th {\n",
       "        vertical-align: top;\n",
       "    }\n",
       "\n",
       "    .dataframe thead th {\n",
       "        text-align: right;\n",
       "    }\n",
       "</style>\n",
       "<table border=\"1\" class=\"dataframe\">\n",
       "  <thead>\n",
       "    <tr style=\"text-align: right;\">\n",
       "      <th></th>\n",
       "      <th>name</th>\n",
       "      <th>sex</th>\n",
       "      <th>age_group</th>\n",
       "    </tr>\n",
       "  </thead>\n",
       "  <tbody>\n",
       "    <tr>\n",
       "      <th>0</th>\n",
       "      <td>ALLEN, MISS. ELISABETH WALTON</td>\n",
       "      <td>FEMALE</td>\n",
       "      <td>ADULT</td>\n",
       "    </tr>\n",
       "    <tr>\n",
       "      <th>1</th>\n",
       "      <td>ALLISON, MASTER. HUDSON TREVOR</td>\n",
       "      <td>MALE</td>\n",
       "      <td>INFANT</td>\n",
       "    </tr>\n",
       "    <tr>\n",
       "      <th>2</th>\n",
       "      <td>ALLISON, MISS. HELEN LORAINE</td>\n",
       "      <td>FEMALE</td>\n",
       "      <td>CHILD</td>\n",
       "    </tr>\n",
       "    <tr>\n",
       "      <th>3</th>\n",
       "      <td>ALLISON, MR. HUDSON JOSHUA CREIGHTON</td>\n",
       "      <td>MALE</td>\n",
       "      <td>ADULT</td>\n",
       "    </tr>\n",
       "    <tr>\n",
       "      <th>4</th>\n",
       "      <td>ALLISON, MRS. HUDSON J C (BESSIE WALDO DANIELS)</td>\n",
       "      <td>FEMALE</td>\n",
       "      <td>ADULT</td>\n",
       "    </tr>\n",
       "    <tr>\n",
       "      <th>...</th>\n",
       "      <td>...</td>\n",
       "      <td>...</td>\n",
       "      <td>...</td>\n",
       "    </tr>\n",
       "    <tr>\n",
       "      <th>1304</th>\n",
       "      <td>ZABOUR, MISS. HILENI</td>\n",
       "      <td>FEMALE</td>\n",
       "      <td>TEEN</td>\n",
       "    </tr>\n",
       "    <tr>\n",
       "      <th>1305</th>\n",
       "      <td>ZABOUR, MISS. THAMINE</td>\n",
       "      <td>FEMALE</td>\n",
       "      <td>TEEN</td>\n",
       "    </tr>\n",
       "    <tr>\n",
       "      <th>1306</th>\n",
       "      <td>ZAKARIAN, MR. MAPRIEDEDER</td>\n",
       "      <td>MALE</td>\n",
       "      <td>ADULT</td>\n",
       "    </tr>\n",
       "    <tr>\n",
       "      <th>1307</th>\n",
       "      <td>ZAKARIAN, MR. ORTIN</td>\n",
       "      <td>MALE</td>\n",
       "      <td>ADULT</td>\n",
       "    </tr>\n",
       "    <tr>\n",
       "      <th>1308</th>\n",
       "      <td>ZIMMERMAN, MR. LEO</td>\n",
       "      <td>MALE</td>\n",
       "      <td>ADULT</td>\n",
       "    </tr>\n",
       "  </tbody>\n",
       "</table>\n",
       "<p>1309 rows × 3 columns</p>\n",
       "</div>"
      ],
      "text/plain": [
       "                                                 name     sex age_group\n",
       "0                       ALLEN, MISS. ELISABETH WALTON  FEMALE     ADULT\n",
       "1                      ALLISON, MASTER. HUDSON TREVOR    MALE    INFANT\n",
       "2                        ALLISON, MISS. HELEN LORAINE  FEMALE     CHILD\n",
       "3                ALLISON, MR. HUDSON JOSHUA CREIGHTON    MALE     ADULT\n",
       "4     ALLISON, MRS. HUDSON J C (BESSIE WALDO DANIELS)  FEMALE     ADULT\n",
       "...                                               ...     ...       ...\n",
       "1304                             ZABOUR, MISS. HILENI  FEMALE      TEEN\n",
       "1305                            ZABOUR, MISS. THAMINE  FEMALE      TEEN\n",
       "1306                        ZAKARIAN, MR. MAPRIEDEDER    MALE     ADULT\n",
       "1307                              ZAKARIAN, MR. ORTIN    MALE     ADULT\n",
       "1308                               ZIMMERMAN, MR. LEO    MALE     ADULT\n",
       "\n",
       "[1309 rows x 3 columns]"
      ]
     },
     "execution_count": 46,
     "metadata": {},
     "output_type": "execute_result"
    }
   ],
   "source": [
    "titanic[[\"name\", \"sex\", \"age_group\"]].applymap(str.upper)"
   ]
  },
  {
   "cell_type": "code",
   "execution_count": 47,
   "id": "4c380e66",
   "metadata": {},
   "outputs": [
    {
     "data": {
      "text/html": [
       "<div>\n",
       "<style scoped>\n",
       "    .dataframe tbody tr th:only-of-type {\n",
       "        vertical-align: middle;\n",
       "    }\n",
       "\n",
       "    .dataframe tbody tr th {\n",
       "        vertical-align: top;\n",
       "    }\n",
       "\n",
       "    .dataframe thead th {\n",
       "        text-align: right;\n",
       "    }\n",
       "</style>\n",
       "<table border=\"1\" class=\"dataframe\">\n",
       "  <thead>\n",
       "    <tr style=\"text-align: right;\">\n",
       "      <th></th>\n",
       "      <th>name</th>\n",
       "      <th>sex</th>\n",
       "      <th>age_group</th>\n",
       "    </tr>\n",
       "  </thead>\n",
       "  <tbody>\n",
       "    <tr>\n",
       "      <th>0</th>\n",
       "      <td>29</td>\n",
       "      <td>6</td>\n",
       "      <td>5</td>\n",
       "    </tr>\n",
       "    <tr>\n",
       "      <th>1</th>\n",
       "      <td>30</td>\n",
       "      <td>4</td>\n",
       "      <td>6</td>\n",
       "    </tr>\n",
       "    <tr>\n",
       "      <th>2</th>\n",
       "      <td>28</td>\n",
       "      <td>6</td>\n",
       "      <td>5</td>\n",
       "    </tr>\n",
       "    <tr>\n",
       "      <th>3</th>\n",
       "      <td>36</td>\n",
       "      <td>4</td>\n",
       "      <td>5</td>\n",
       "    </tr>\n",
       "    <tr>\n",
       "      <th>4</th>\n",
       "      <td>47</td>\n",
       "      <td>6</td>\n",
       "      <td>5</td>\n",
       "    </tr>\n",
       "    <tr>\n",
       "      <th>...</th>\n",
       "      <td>...</td>\n",
       "      <td>...</td>\n",
       "      <td>...</td>\n",
       "    </tr>\n",
       "    <tr>\n",
       "      <th>1304</th>\n",
       "      <td>20</td>\n",
       "      <td>6</td>\n",
       "      <td>4</td>\n",
       "    </tr>\n",
       "    <tr>\n",
       "      <th>1305</th>\n",
       "      <td>21</td>\n",
       "      <td>6</td>\n",
       "      <td>4</td>\n",
       "    </tr>\n",
       "    <tr>\n",
       "      <th>1306</th>\n",
       "      <td>25</td>\n",
       "      <td>4</td>\n",
       "      <td>5</td>\n",
       "    </tr>\n",
       "    <tr>\n",
       "      <th>1307</th>\n",
       "      <td>19</td>\n",
       "      <td>4</td>\n",
       "      <td>5</td>\n",
       "    </tr>\n",
       "    <tr>\n",
       "      <th>1308</th>\n",
       "      <td>18</td>\n",
       "      <td>4</td>\n",
       "      <td>5</td>\n",
       "    </tr>\n",
       "  </tbody>\n",
       "</table>\n",
       "<p>1309 rows × 3 columns</p>\n",
       "</div>"
      ],
      "text/plain": [
       "      name  sex  age_group\n",
       "0       29    6          5\n",
       "1       30    4          6\n",
       "2       28    6          5\n",
       "3       36    4          5\n",
       "4       47    6          5\n",
       "...    ...  ...        ...\n",
       "1304    20    6          4\n",
       "1305    21    6          4\n",
       "1306    25    4          5\n",
       "1307    19    4          5\n",
       "1308    18    4          5\n",
       "\n",
       "[1309 rows x 3 columns]"
      ]
     },
     "execution_count": 47,
     "metadata": {},
     "output_type": "execute_result"
    }
   ],
   "source": [
    "titanic[[\"name\", \"sex\", \"age_group\"]].applymap(len)"
   ]
  },
  {
   "cell_type": "code",
   "execution_count": null,
   "id": "acb42ab5",
   "metadata": {},
   "outputs": [],
   "source": []
  }
 ],
 "metadata": {
  "kernelspec": {
   "display_name": "Python 3",
   "language": "python",
   "name": "python3"
  },
  "language_info": {
   "codemirror_mode": {
    "name": "ipython",
    "version": 3
   },
   "file_extension": ".py",
   "mimetype": "text/x-python",
   "name": "python",
   "nbconvert_exporter": "python",
   "pygments_lexer": "ipython3",
   "version": "3.8.8"
  }
 },
 "nbformat": 4,
 "nbformat_minor": 5
}
